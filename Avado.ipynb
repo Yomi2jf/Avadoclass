{
  "nbformat": 4,
  "nbformat_minor": 0,
  "metadata": {
    "colab": {
      "provenance": [],
      "authorship_tag": "ABX9TyO3hjLK5TmRdLrXHG08tTz0",
      "include_colab_link": true
    },
    "kernelspec": {
      "name": "python3",
      "display_name": "Python 3"
    },
    "language_info": {
      "name": "python"
    }
  },
  "cells": [
    {
      "cell_type": "markdown",
      "metadata": {
        "id": "view-in-github",
        "colab_type": "text"
      },
      "source": [
        "<a href=\"https://colab.research.google.com/github/Yomi2jf/Avadoclass/blob/main/Avado.ipynb\" target=\"_parent\"><img src=\"https://colab.research.google.com/assets/colab-badge.svg\" alt=\"Open In Colab\"/></a>"
      ]
    },
    {
      "cell_type": "markdown",
      "source": [
        "Using if, elif, else statements, print if number is positive, negative or zero"
      ],
      "metadata": {
        "id": "1FlDs8a8kNgq"
      }
    },
    {
      "cell_type": "code",
      "source": [
        "a = -100\n",
        "\n",
        "if a == 0:\n",
        "    print('Number is zero')\n",
        "elif a < 0:\n",
        "  print('Number is negative')\n",
        "else:\n",
        "  print('Number is positive')\n"
      ],
      "metadata": {
        "colab": {
          "base_uri": "https://localhost:8080/"
        },
        "id": "C5b9CZYTkg5R",
        "outputId": "989f4b0d-fffd-4e51-dafc-c12203180205"
      },
      "execution_count": 9,
      "outputs": [
        {
          "output_type": "stream",
          "name": "stdout",
          "text": [
            "Number is negative\n"
          ]
        }
      ]
    },
    {
      "cell_type": "code",
      "source": [
        "a = -100\n",
        "\n",
        "if a == 0:\n",
        "  print('Number is zero')\n",
        "elif a < 0:\n",
        "  print ('Number is negative')\n",
        "else:\n",
        "  print('Number is positive')"
      ],
      "metadata": {
        "colab": {
          "base_uri": "https://localhost:8080/"
        },
        "id": "Vr4AkDt6jycL",
        "outputId": "62b35a1d-a4da-4823-e620-bca4668a3472"
      },
      "execution_count": 10,
      "outputs": [
        {
          "output_type": "stream",
          "name": "stdout",
          "text": [
            "Number is negative\n"
          ]
        }
      ]
    },
    {
      "cell_type": "code",
      "source": [
        "for i in [1,2,3,4,5,6,7]:\n",
        "  print(i)"
      ],
      "metadata": {
        "colab": {
          "base_uri": "https://localhost:8080/"
        },
        "id": "lM6Ox05lltG5",
        "outputId": "3b9a72b0-a4cd-4424-e83f-7a1034d35d86"
      },
      "execution_count": 14,
      "outputs": [
        {
          "output_type": "stream",
          "name": "stdout",
          "text": [
            "1\n",
            "2\n",
            "3\n",
            "4\n",
            "5\n",
            "6\n",
            "7\n"
          ]
        }
      ]
    },
    {
      "cell_type": "code",
      "source": [
        "for item in range(1,11):\n",
        "  print(\"12 x {} =\". format(item), item*12)"
      ],
      "metadata": {
        "colab": {
          "base_uri": "https://localhost:8080/"
        },
        "id": "pQjCeV4LmC4V",
        "outputId": "f66069ca-b82b-452f-d4aa-aa23827c280c"
      },
      "execution_count": 27,
      "outputs": [
        {
          "output_type": "stream",
          "name": "stdout",
          "text": [
            "12 x 1 = 12\n",
            "12 x 2 = 24\n",
            "12 x 3 = 36\n",
            "12 x 4 = 48\n",
            "12 x 5 = 60\n",
            "12 x 6 = 72\n",
            "12 x 7 = 84\n",
            "12 x 8 = 96\n",
            "12 x 9 = 108\n",
            "12 x 10 = 120\n"
          ]
        }
      ]
    },
    {
      "cell_type": "code",
      "source": [
        "numlist = [1000, 20, 2010, 50, 95, 34]\n",
        "\n",
        "newnumlist_conventional = []\n",
        "newmulist_comprehension = []\n",
        "\n",
        "for i in numlist:\n",
        "  if i < 100:\n",
        "    newnumlist_conventional.append(i)\n",
        "\n",
        "newnumlist_comprehension = [i for i in numlist if i<100]\n",
        "\n",
        "print(newnumlist_conventional)\n",
        "print(newnumlist_comprehension)"
      ],
      "metadata": {
        "colab": {
          "base_uri": "https://localhost:8080/"
        },
        "id": "dUZA4KKwLv0C",
        "outputId": "f211e9a6-9a70-498b-8eb7-5a8828fb078c"
      },
      "execution_count": 21,
      "outputs": [
        {
          "output_type": "stream",
          "name": "stdout",
          "text": [
            "[20, 50, 95, 34]\n",
            "[20, 50, 95, 34]\n"
          ]
        }
      ]
    },
    {
      "cell_type": "code",
      "source": [
        "mylist = [\"Michael\", \"Sean\", \"Adam\", \"Ali\", \"Rachael\"]\n",
        "\n",
        "newlist = []\n",
        "\n",
        "newlist = [i for i in mylist if \"A\" in i]\n",
        "newlist"
      ],
      "metadata": {
        "colab": {
          "base_uri": "https://localhost:8080/"
        },
        "id": "IwJjTWq4Qy94",
        "outputId": "f256fa96-1b92-459b-cbf9-d312dc25d0a2"
      },
      "execution_count": 9,
      "outputs": [
        {
          "output_type": "execute_result",
          "data": {
            "text/plain": [
              "['Adam', 'Ali']"
            ]
          },
          "metadata": {},
          "execution_count": 9
        }
      ]
    },
    {
      "cell_type": "code",
      "source": [
        "word = \"python\"\n",
        "\n",
        "[\"P\", \"Y\", \"T\", \"H\", \"O\", \"N\"]\n",
        "newlst = [letter.upper() for letter in word]\n",
        "print(newlst)"
      ],
      "metadata": {
        "colab": {
          "base_uri": "https://localhost:8080/"
        },
        "id": "uUKLO0fJR2Xb",
        "outputId": "3e4da359-f57c-43e3-e660-34234c970ba9"
      },
      "execution_count": 10,
      "outputs": [
        {
          "output_type": "stream",
          "name": "stdout",
          "text": [
            "['P', 'Y', 'T', 'H', 'O', 'N']\n"
          ]
        }
      ]
    },
    {
      "cell_type": "code",
      "source": [
        "word = \"London\"\n",
        "list(word.upper())"
      ],
      "metadata": {
        "colab": {
          "base_uri": "https://localhost:8080/"
        },
        "id": "LbBC6ZeASioe",
        "outputId": "a302c27e-bae9-4e38-d2e8-b29413dc5f92"
      },
      "execution_count": 2,
      "outputs": [
        {
          "output_type": "execute_result",
          "data": {
            "text/plain": [
              "['L', 'O', 'N', 'D', 'O', 'N']"
            ]
          },
          "metadata": {},
          "execution_count": 2
        }
      ]
    },
    {
      "cell_type": "code",
      "source": [
        "matrix = [[0, 1, 2],\n",
        "         [3, 4, 5],\n",
        "         [6, 7, 8],\n",
        "         [9, 10, 11]]\n",
        "\n",
        "rows = len(matrix)\n",
        "cols = len(matrix[0])\n",
        "\n",
        "for i in range (0, rows):\n",
        "  print(matrix[i])"
      ],
      "metadata": {
        "colab": {
          "base_uri": "https://localhost:8080/"
        },
        "id": "VtyJbFRxTni6",
        "outputId": "7da94cac-d3fe-49bc-fc52-27a27a518d95"
      },
      "execution_count": 15,
      "outputs": [
        {
          "output_type": "stream",
          "name": "stdout",
          "text": [
            "[0, 1, 2]\n",
            "[3, 4, 5]\n",
            "[6, 7, 8]\n",
            "[9, 10, 11]\n"
          ]
        }
      ]
    },
    {
      "cell_type": "code",
      "source": [
        "#Nested loop\n",
        "\n",
        "mylist = [[1,2,3,4],[5,6,7],['a','b','c'],['d','e',]]\n",
        "newlist = []\n",
        "for x in range(len(mylist)):\n",
        "  for y in range(len(mylist[x])):\n",
        "    newlist.append(mylist[x][y])\n",
        "\n",
        "print(newlist)"
      ],
      "metadata": {
        "colab": {
          "base_uri": "https://localhost:8080/"
        },
        "id": "RKRhiD8tU6vM",
        "outputId": "1b91c0ff-302d-4ca1-e8e0-1abf0fc9e184"
      },
      "execution_count": 25,
      "outputs": [
        {
          "output_type": "stream",
          "name": "stdout",
          "text": [
            "[1, 2, 3, 4, 5, 6, 7, 'a', 'b', 'c', 'd', 'e']\n"
          ]
        }
      ]
    },
    {
      "cell_type": "code",
      "source": [
        "mylist = [[1,2,3,4],[5,6,7],['a','b','c'],['d','e',]]\n",
        "# list comprehension - simpler one liner than above\n",
        "\n",
        "[num for elem in mylist for num in elem]"
      ],
      "metadata": {
        "colab": {
          "base_uri": "https://localhost:8080/"
        },
        "id": "gC_xjvoMXP4t",
        "outputId": "9bf895c4-2e77-4c65-f571-fe24d1f5bcbd"
      },
      "execution_count": 27,
      "outputs": [
        {
          "output_type": "execute_result",
          "data": {
            "text/plain": [
              "[1, 2, 3, 4, 5, 6, 7, 'a', 'b', 'c', 'd', 'e']"
            ]
          },
          "metadata": {},
          "execution_count": 27
        }
      ]
    },
    {
      "cell_type": "markdown",
      "source": [
        "Dictionaries\n",
        "\n",
        "\n",
        "1.   Dictionaries are used to store data values in **key:value** pairs\n",
        "2.   Dictionay items are changeable and do not allow duplicates\n",
        "1.   Dictionaries are written with curly brackets {}, and have keys and values\n",
        "\n",
        "\n",
        "\n"
      ],
      "metadata": {
        "id": "JIaZN9pX2Ylx"
      }
    },
    {
      "cell_type": "code",
      "source": [
        "mydict = {\n",
        "   \"employee\" : \"Zara\",\n",
        "    \"department\" : \"Operations\",\n",
        "    \"last salary\" : 50000.0\n",
        "}\n",
        "print(mydict)"
      ],
      "metadata": {
        "colab": {
          "base_uri": "https://localhost:8080/"
        },
        "id": "NoI_ik8v28lW",
        "outputId": "3b0d50a0-fb9a-44f0-a1ec-3600aace3cff"
      },
      "execution_count": 31,
      "outputs": [
        {
          "output_type": "stream",
          "name": "stdout",
          "text": [
            "{'employee': 'Zara', 'department': 'Operations', 'last salary': 50000.0}\n"
          ]
        }
      ]
    },
    {
      "cell_type": "code",
      "source": [
        "mydict['last salary']"
      ],
      "metadata": {
        "colab": {
          "base_uri": "https://localhost:8080/"
        },
        "id": "2ZqeXjlJ7FOJ",
        "outputId": "9f2f5c37-9d20-4bac-b8bd-77ab562c4f12"
      },
      "execution_count": 33,
      "outputs": [
        {
          "output_type": "execute_result",
          "data": {
            "text/plain": [
              "50000.0"
            ]
          },
          "metadata": {},
          "execution_count": 33
        }
      ]
    },
    {
      "cell_type": "markdown",
      "source": [
        "Accessing **keys, values** and **items**"
      ],
      "metadata": {
        "id": "Cujl5olc7VRp"
      }
    },
    {
      "cell_type": "code",
      "source": [
        "mydict = {\n",
        "    \"employee\" : \"Zara\",\n",
        "    \"department\" : \"Operations\",\n",
        "    \"last salary\" : 50000.0\n",
        "}\n",
        "keys = mydict.keys()\n",
        "values = mydict.values()\n",
        "items = mydict.items()\n",
        "print (keys)\n",
        "print (values)\n",
        "print(items)"
      ],
      "metadata": {
        "colab": {
          "base_uri": "https://localhost:8080/"
        },
        "id": "Fqqq_Cm07jvf",
        "outputId": "0751e1ed-9905-4d7b-cbb9-8b2680315149"
      },
      "execution_count": 36,
      "outputs": [
        {
          "output_type": "stream",
          "name": "stdout",
          "text": [
            "dict_keys(['employee', 'department', 'last salary'])\n",
            "dict_values(['Zara', 'Operations', 50000.0])\n",
            "dict_items([('employee', 'Zara'), ('department', 'Operations'), ('last salary', 50000.0)])\n"
          ]
        }
      ]
    },
    {
      "cell_type": "code",
      "source": [
        "list(keys) [0]"
      ],
      "metadata": {
        "colab": {
          "base_uri": "https://localhost:8080/",
          "height": 35
        },
        "id": "1YR2v6ER8EGx",
        "outputId": "f086f67b-d31e-46e2-dbb1-ed5c424f330f"
      },
      "execution_count": 41,
      "outputs": [
        {
          "output_type": "execute_result",
          "data": {
            "text/plain": [
              "'employee'"
            ],
            "application/vnd.google.colaboratory.intrinsic+json": {
              "type": "string"
            }
          },
          "metadata": {},
          "execution_count": 41
        }
      ]
    },
    {
      "cell_type": "markdown",
      "source": [
        "**Nested dictionaries**\n",
        "\n",
        "A dictionary can contain dictionaries, these are called nested dictionaries"
      ],
      "metadata": {
        "id": "kkQgTWBW8k94"
      }
    },
    {
      "cell_type": "code",
      "source": [
        "mydict = {\n",
        "    1: {\"employee\" : \"Zara\", \"deparment\" : \"Operations\", \"last salary\" : 10000},\n",
        "    2: {\"emoployee\" : \"Dave\", \"department\" : \"Sales\", \"last salary\" : 70000}\n",
        "\n",
        "}\n",
        "mydict"
      ],
      "metadata": {
        "colab": {
          "base_uri": "https://localhost:8080/"
        },
        "id": "Wf0XfM6L8sPx",
        "outputId": "0f76e631-504b-49ed-af9a-a683a6df3e6d"
      },
      "execution_count": 46,
      "outputs": [
        {
          "output_type": "execute_result",
          "data": {
            "text/plain": [
              "{1: {'employee': 'Zara', 'deparment': 'Operations', 'last salary': 10000},\n",
              " 2: {'emoployee': 'Dave', 'department': 'Sales', 'last salary': 70000}}"
            ]
          },
          "metadata": {},
          "execution_count": 46
        }
      ]
    },
    {
      "cell_type": "code",
      "source": [
        "if \"department\" in mydict:\n",
        "  print(\"Yes key department is present in this dict\")"
      ],
      "metadata": {
        "id": "KS0UBGpb99ni"
      },
      "execution_count": 49,
      "outputs": []
    },
    {
      "cell_type": "code",
      "source": [
        "mydict.pop(\"Zara\")\n",
        "mydict"
      ],
      "metadata": {
        "colab": {
          "base_uri": "https://localhost:8080/",
          "height": 215
        },
        "id": "Y0BJnGRO-seR",
        "outputId": "63d52379-1998-4e63-dec8-ddcab75c20bf"
      },
      "execution_count": 57,
      "outputs": [
        {
          "output_type": "error",
          "ename": "KeyError",
          "evalue": "ignored",
          "traceback": [
            "\u001b[0;31m---------------------------------------------------------------------------\u001b[0m",
            "\u001b[0;31mKeyError\u001b[0m                                  Traceback (most recent call last)",
            "\u001b[0;32m<ipython-input-57-0e4349d59291>\u001b[0m in \u001b[0;36m<cell line: 1>\u001b[0;34m()\u001b[0m\n\u001b[0;32m----> 1\u001b[0;31m \u001b[0mmydict\u001b[0m\u001b[0;34m.\u001b[0m\u001b[0mpop\u001b[0m\u001b[0;34m(\u001b[0m\u001b[0;34m\"Zara\"\u001b[0m\u001b[0;34m)\u001b[0m\u001b[0;34m\u001b[0m\u001b[0;34m\u001b[0m\u001b[0m\n\u001b[0m\u001b[1;32m      2\u001b[0m \u001b[0mmydict\u001b[0m\u001b[0;34m\u001b[0m\u001b[0;34m\u001b[0m\u001b[0m\n",
            "\u001b[0;31mKeyError\u001b[0m: 'Zara'"
          ]
        }
      ]
    },
    {
      "cell_type": "markdown",
      "source": [
        "**Using loops in dictionaries**\n",
        "\n",
        "A loop can be used to loop through a dictionary\n",
        "\n",
        "When looping through a dictionary, the return value are the keys of the dictionary.\n",
        "\n",
        "There are methods to return values as well"
      ],
      "metadata": {
        "id": "wBGBp-XEJOzA"
      }
    },
    {
      "cell_type": "code",
      "source": [
        "mydict = {\n",
        "    \"employee\" : \"Zara\",\n",
        "    \"department\" : \"Operations\",\n",
        "    \"last salary\" : 5000,\n",
        "    \"status\" : \"permanent\",\n",
        "    \"level\" : 3\n",
        "}\n",
        "for item in mydict.keys():\n",
        "  print(item)"
      ],
      "metadata": {
        "colab": {
          "base_uri": "https://localhost:8080/"
        },
        "id": "dmXgvMmoJMuJ",
        "outputId": "78b12291-070e-409f-8309-d4046ae53fc6"
      },
      "execution_count": 58,
      "outputs": [
        {
          "output_type": "stream",
          "name": "stdout",
          "text": [
            "employee\n",
            "department\n",
            "last salary\n",
            "status\n",
            "level\n"
          ]
        }
      ]
    },
    {
      "cell_type": "markdown",
      "source": [
        "**Tuples**\n",
        "\n",
        "A tuple is a collection which is ordered, unchangeable and allows duplicates.\n",
        "\n",
        "Tuples are written with round () brackets\n",
        "\n",
        "Similar to lists, tuples allow different data types\n",
        "\n"
      ],
      "metadata": {
        "id": "LjQi9yHyNgh7"
      }
    },
    {
      "cell_type": "code",
      "source": [
        "mytuple = (\"Audi\", \"Ford\", \"Tesla\")\n",
        "print(mytuple)\n",
        "mytuple = (\"Audi\", \"Ford\", \"Tesla\", \"Audi\")\n",
        "print(mytuple)\n",
        "mytuple = (\"Audi\", \"Ford\", \"Tesla\", \"Audi\", 5000, True)\n",
        "print(mytuple)"
      ],
      "metadata": {
        "colab": {
          "base_uri": "https://localhost:8080/"
        },
        "id": "kIJ1KOx9P6TD",
        "outputId": "b2b72d50-d841-4949-ca94-c703faa7b124"
      },
      "execution_count": 61,
      "outputs": [
        {
          "output_type": "stream",
          "name": "stdout",
          "text": [
            "('Audi', 'Ford', 'Tesla')\n",
            "('Audi', 'Ford', 'Tesla', 'Audi')\n",
            "('Audi', 'Ford', 'Tesla', 'Audi', 5000, True)\n"
          ]
        }
      ]
    },
    {
      "cell_type": "code",
      "source": [
        "#All rules regarding indexing, negative indexing and slicing also apply to tuples\n",
        "mytuple = (\"Audi\", \"Ford\", \"Tesla\", \"Audi\", 5000, True)\n",
        "print(mytuple[3]) #indexing\n",
        "print(mytuple[-1]) #negative indexing\n",
        "print(mytuple[0:3]) #slicing"
      ],
      "metadata": {
        "colab": {
          "base_uri": "https://localhost:8080/"
        },
        "id": "wu-fHLW9Qfld",
        "outputId": "908fcaa6-cc0b-4330-ccd3-1a041c7ccac2"
      },
      "execution_count": 64,
      "outputs": [
        {
          "output_type": "stream",
          "name": "stdout",
          "text": [
            "Audi\n",
            "True\n",
            "('Audi', 'Ford', 'Tesla')\n"
          ]
        }
      ]
    },
    {
      "cell_type": "markdown",
      "source": [
        "**Tuples - change value**\n",
        "\n",
        "Tuples are unchangeable once created\n",
        "\n",
        "But there is a workaround. You can convert the tuple into a list, change (add, remove, update)"
      ],
      "metadata": {
        "id": "jk9eD3PBPV_6"
      }
    },
    {
      "cell_type": "code",
      "source": [
        "mytuple = (\"Audi\", \"Ford\", \"Tesla\", \"Audi\")\n",
        "mylist = list(mytuple) #using list constructor, convert tuples to list\n",
        "mylist [1] = \"Toyota\" #make the change you want\n",
        "mytuple = tuple(mylist) #convert list back to tuple using tuple constructor\n",
        "print(mytuple)"
      ],
      "metadata": {
        "colab": {
          "base_uri": "https://localhost:8080/"
        },
        "id": "oIR3RQGYOOpe",
        "outputId": "239a2435-8a4f-4774-c55b-43fd0b9a1e93"
      },
      "execution_count": 59,
      "outputs": [
        {
          "output_type": "stream",
          "name": "stdout",
          "text": [
            "('Audi', 'Toyota', 'Tesla', 'Audi')\n"
          ]
        }
      ]
    },
    {
      "cell_type": "code",
      "source": [
        "# searches the tuple for a specified value and returns the position of where it\n",
        "mytuple = (\"Audi\", \"Ford\", \"Tesla\")\n",
        "mytuple.index(\"Tesla\")"
      ],
      "metadata": {
        "colab": {
          "base_uri": "https://localhost:8080/"
        },
        "id": "Uhg37zZrO80Y",
        "outputId": "09a1b560-689b-423a-f3dd-2f88134b2147"
      },
      "execution_count": 60,
      "outputs": [
        {
          "output_type": "execute_result",
          "data": {
            "text/plain": [
              "2"
            ]
          },
          "metadata": {},
          "execution_count": 60
        }
      ]
    },
    {
      "cell_type": "markdown",
      "source": [
        "**Tuples - packing and unpacking**"
      ],
      "metadata": {
        "id": "K2aRbUxJRHDx"
      }
    },
    {
      "cell_type": "code",
      "source": [
        "mytuple = (\"Audi\", \"Ford\", \"Tesla\") #packing\n",
        "car1,car2,car3 = mytuple #unpacking\n",
        "print(car1)\n",
        "print(car2)\n",
        "print(car3)\n"
      ],
      "metadata": {
        "colab": {
          "base_uri": "https://localhost:8080/"
        },
        "id": "_hYWFrMrRKxe",
        "outputId": "283b591c-617b-4f33-d9e6-744feec7baa3"
      },
      "execution_count": 70,
      "outputs": [
        {
          "output_type": "stream",
          "name": "stdout",
          "text": [
            "Audi\n",
            "Ford\n",
            "Tesla\n"
          ]
        }
      ]
    },
    {
      "cell_type": "markdown",
      "source": [
        "**SETS**\n",
        "\n",
        "\n",
        "\n",
        "*   A set is a collection which is unchangeable, unindexed and does not allow duplicates\n",
        "*   Written with {} brackets\n",
        "*   Allow a mixture of different data tyoes\n",
        "*   len() and type() can be used in similar ways"
      ],
      "metadata": {
        "id": "n6kIi5IjSLGb"
      }
    },
    {
      "cell_type": "code",
      "source": [
        "myset = {\"apple\", \"banana\", \"orange\", 1, 3, 5, True} #yet output will be unordered\n",
        "print(myset)\n",
        "print(len(myset))\n",
        "print(type(myset))"
      ],
      "metadata": {
        "colab": {
          "base_uri": "https://localhost:8080/"
        },
        "id": "Y2EPzHWeSsAT",
        "outputId": "a93e9bc4-1ad0-4e0e-9bc5-2e8299b87470"
      },
      "execution_count": 71,
      "outputs": [
        {
          "output_type": "stream",
          "name": "stdout",
          "text": [
            "{1, 3, 5, 'orange', 'apple', 'banana'}\n",
            "6\n",
            "<class 'set'>\n"
          ]
        }
      ]
    },
    {
      "cell_type": "code",
      "source": [
        "#delete values using pop\n",
        "myset.pop()\n",
        "myset"
      ],
      "metadata": {
        "colab": {
          "base_uri": "https://localhost:8080/"
        },
        "id": "yyWlgZ_MUdVg",
        "outputId": "0c69a4dc-a777-4b5a-d1fd-7e6a1da16a49"
      },
      "execution_count": 72,
      "outputs": [
        {
          "output_type": "execute_result",
          "data": {
            "text/plain": [
              "{3, 5, 'apple', 'banana', 'orange'}"
            ]
          },
          "metadata": {},
          "execution_count": 72
        }
      ]
    },
    {
      "cell_type": "code",
      "source": [
        "#union, intersection and subset methods\n",
        "myset1= {3,4}\n",
        "myset2 = {3,4,5,6}\n",
        "myset3 = myset1.intersection(myset2) #intersection of two sets and output in third\n",
        "myset4 = myset1.union(myset2) #union of two sets and output in third\n",
        "print(myset3)\n",
        "print(myset4)\n",
        "print(myset1.issubset(myset2))\n"
      ],
      "metadata": {
        "colab": {
          "base_uri": "https://localhost:8080/"
        },
        "id": "HcmC7Sh8UmKF",
        "outputId": "368392ff-b7ba-450d-c685-31241726d31a"
      },
      "execution_count": 78,
      "outputs": [
        {
          "output_type": "stream",
          "name": "stdout",
          "text": [
            "{3, 4}\n",
            "{3, 4, 5, 6}\n",
            "True\n"
          ]
        }
      ]
    },
    {
      "cell_type": "code",
      "source": [
        "import pandas as pd"
      ],
      "metadata": {
        "id": "P_Q9d2PfVu1T"
      },
      "execution_count": 80,
      "outputs": []
    },
    {
      "cell_type": "markdown",
      "source": [
        "search coding challenges for beginners"
      ],
      "metadata": {
        "id": "1o7xfEjlWBfn"
      }
    },
    {
      "cell_type": "markdown",
      "source": [
        "**Merging two dictionaries**\n"
      ],
      "metadata": {
        "id": "oxY3x-JtXDqz"
      }
    },
    {
      "cell_type": "code",
      "source": [
        "#Method 1\n",
        "age_dict_group1 = {\"Sara\" : 20, \"Elina\": 32, \"Mike\" : 27}\n",
        "age_dict_group2 = {\"George\": 42, \"Robin\": 21, \"Gary\": 25}\n",
        "\n",
        "combined_dict = {}\n",
        "\n",
        "for key in age_dict_group1:\n",
        "  combined_dict[key] = age_dict_group1\n",
        "\n",
        "for key in age_dict_group2:\n",
        "  combined_dict[key] = age_dict_group2\n",
        "\n",
        "print(combined_dict)\n"
      ],
      "metadata": {
        "colab": {
          "base_uri": "https://localhost:8080/"
        },
        "id": "5rg-xB4TW_o4",
        "outputId": "06d8e4b1-ea04-46a7-dfb8-a933bc99e7bc"
      },
      "execution_count": 81,
      "outputs": [
        {
          "output_type": "stream",
          "name": "stdout",
          "text": [
            "{'Sara': {'Sara': 20, 'Elina': 32, 'Mike': 27}, 'Elina': {'Sara': 20, 'Elina': 32, 'Mike': 27}, 'Mike': {'Sara': 20, 'Elina': 32, 'Mike': 27}, 'George': {'George': 42, 'Robin': 21, 'Gary': 25}, 'Robin': {'George': 42, 'Robin': 21, 'Gary': 25}, 'Gary': {'George': 42, 'Robin': 21, 'Gary': 25}}\n"
          ]
        }
      ]
    },
    {
      "cell_type": "code",
      "source": [
        "#Method 4\n",
        "age_dict_group1 = {\"Sara\" : 20, \"Elina\": 32, \"Mike\" : 27}\n",
        "age_dict_group2 = {\"George\": 42, \"Robin\": 21, \"Gary\": 25}\n",
        "\n",
        "combined_dict = age_dict_group1 | age_dict_group2\n",
        "combined_dict"
      ],
      "metadata": {
        "colab": {
          "base_uri": "https://localhost:8080/"
        },
        "id": "sWcrjJYzX_IF",
        "outputId": "4c62b152-e48a-468a-9fd8-df599fa79100"
      },
      "execution_count": 83,
      "outputs": [
        {
          "output_type": "execute_result",
          "data": {
            "text/plain": [
              "{'Sara': 20, 'Elina': 32, 'Mike': 27, 'George': 42, 'Robin': 21, 'Gary': 25}"
            ]
          },
          "metadata": {},
          "execution_count": 83
        }
      ]
    },
    {
      "cell_type": "markdown",
      "source": [
        "**Remove the duplicates from list**"
      ],
      "metadata": {
        "id": "Fo1VRaepYkg5"
      }
    },
    {
      "cell_type": "code",
      "source": [
        "#Method 1\n",
        "lst = [5,6,7,4,3,4,4,4,3,3,1]\n",
        "\n",
        "newlst =[]\n",
        "\n",
        "for item in lst:\n",
        "  if item not in newlst:\n",
        "    newlst.append(item)\n",
        "\n",
        "newlst"
      ],
      "metadata": {
        "colab": {
          "base_uri": "https://localhost:8080/"
        },
        "id": "W-6jOoq4Ynvk",
        "outputId": "c3634257-37c2-4bc1-9d85-e51567c287fb"
      },
      "execution_count": 84,
      "outputs": [
        {
          "output_type": "execute_result",
          "data": {
            "text/plain": [
              "[5, 6, 7, 4, 3, 1]"
            ]
          },
          "metadata": {},
          "execution_count": 84
        }
      ]
    },
    {
      "cell_type": "code",
      "source": [
        "#Method 2\n",
        "lst = [5,6,7,4,3,4,4,4,3,3,1]\n",
        "\n",
        "st = set(lst)\n",
        "newlst = list(st)\n",
        "newlst"
      ],
      "metadata": {
        "colab": {
          "base_uri": "https://localhost:8080/"
        },
        "id": "_wBpYpqgY4Ku",
        "outputId": "94e13163-deff-4329-c4fc-3612298e76e7"
      },
      "execution_count": 85,
      "outputs": [
        {
          "output_type": "execute_result",
          "data": {
            "text/plain": [
              "[1, 3, 4, 5, 6, 7]"
            ]
          },
          "metadata": {},
          "execution_count": 85
        }
      ]
    },
    {
      "cell_type": "code",
      "source": [
        "#Method 3\n",
        "lst = [5,6,7,4,3,4,4,4,3,3,1]\n",
        "\n",
        "newlst = []\n",
        "[newlst.append(x) for x in lst if x not in newlst]\n",
        "newlst"
      ],
      "metadata": {
        "colab": {
          "base_uri": "https://localhost:8080/"
        },
        "id": "kNmmDb1PZJkI",
        "outputId": "1efcf2c6-1472-4cfa-ef06-131f2d299c18"
      },
      "execution_count": 86,
      "outputs": [
        {
          "output_type": "execute_result",
          "data": {
            "text/plain": [
              "[5, 6, 7, 4, 3, 1]"
            ]
          },
          "metadata": {},
          "execution_count": 86
        }
      ]
    },
    {
      "cell_type": "markdown",
      "source": [
        "**Search https://hackthedeveloper.com/python-list-comprehension/\n"
      ],
      "metadata": {
        "id": "4g-5WzjuZrBW"
      }
    }
  ]
}